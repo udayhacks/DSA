{
 "cells": [
  {
   "cell_type": "code",
   "execution_count": 6,
   "metadata": {},
   "outputs": [
    {
     "name": "stdout",
     "output_type": "stream",
     "text": [
      "['Any', 'Deque', 'Dict', 'Digraph', 'ExecutableNotFound', 'Iterator', 'List', 'Node', 'NodeIndexError', 'NodeModifyError', 'NodeNotFoundError', 'NodeProperties', 'NodeReferenceError', 'NodeTypeError', 'NodeValue', 'NodeValueError', 'NodeValueList', 'Optional', 'SubprocessError', 'TreeHeightError', 'Tuple', 'Union', '_ATTR_LEFT', '_ATTR_RIGHT', '_ATTR_VAL', '_ATTR_VALUE', '_NODE_VAL_TYPES', '_SVG_XML_TEMPLATE', '__all__', '__builtins__', '__cached__', '__doc__', '__file__', '__loader__', '__name__', '__package__', '__path__', '__spec__', '__version__', '_build_bst_from_sorted_values', '_build_tree_string', '_generate_perfect_bst', '_generate_random_leaf_count', '_generate_random_numbers', '_get_tree_properties', '_is_balanced', '_is_bst', '_is_symmetric', '_validate_tree_height', 'bst', 'build', 'build2', 'dataclass', 'deque', 'exceptions', 'get_distribution', 'get_index', 'get_parent', 'heap', 'heapq', 'nohtml', 'number_to_letters', 'random', 'tree']\n",
      "\n",
      "    __1__\n",
      "   /     \\\n",
      "  2       3\n",
      " / \\     / \\\n",
      "4   5   6   7\n",
      "\n"
     ]
    }
   ],
   "source": [
    "\n",
    "import binarytree \n",
    "\n",
    "\n",
    "print(dir(binarytree))\n",
    "l = [1,2,3,4,5,6,7]\n",
    "d = binarytree.build(l)\n",
    "print(d)\n"
   ]
  },
  {
   "cell_type": "code",
   "execution_count": null,
   "metadata": {},
   "outputs": [],
   "source": []
  }
 ],
 "metadata": {
  "kernelspec": {
   "display_name": "Python 3",
   "language": "python",
   "name": "python3"
  },
  "language_info": {
   "codemirror_mode": {
    "name": "ipython",
    "version": 3
   },
   "file_extension": ".py",
   "mimetype": "text/x-python",
   "name": "python",
   "nbconvert_exporter": "python",
   "pygments_lexer": "ipython3",
   "version": "3.11.2"
  },
  "orig_nbformat": 4
 },
 "nbformat": 4,
 "nbformat_minor": 2
}
