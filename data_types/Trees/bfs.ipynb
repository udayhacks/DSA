{
 "cells": [
  {
   "cell_type": "code",
   "execution_count": 1,
   "metadata": {},
   "outputs": [
    {
     "name": "stdout",
     "output_type": "stream",
     "text": [
      "Level order traversal of binary tree is -\n",
      "1 2 3 4 5 "
     ]
    }
   ],
   "source": [
    "\n",
    " \n",
    "class Node:\n",
    "\n",
    "    def __init__(self, key):\n",
    "        self.data = key\n",
    "        self.left = None\n",
    "        self.right = None\n",
    " \n",
    "def printLevelOrder(root):\n",
    "    h = height(root)\n",
    "    for i in range(1, h+1):\n",
    "        printCurrentLevel(root, i)\n",
    " \n",
    " \n",
    "\n",
    "def printCurrentLevel(root, level):\n",
    "    if root is None:\n",
    "        return\n",
    "    if level == 1:\n",
    "        print(root.data, end=\" \")\n",
    "    elif level > 1:\n",
    "        printCurrentLevel(root.left, level-1)\n",
    "        printCurrentLevel(root.right, level-1)\n",
    " \n",
    "def height(node):\n",
    "    if node is None:\n",
    "        return 0\n",
    "    else:\n",
    "        \n",
    "        lheight = height(node.left)\n",
    "        rheight = height(node.right)\n",
    " \n",
    "        if lheight > rheight:\n",
    "            return lheight+1\n",
    "        else:\n",
    "            return rheight+1\n",
    " \n",
    " \n",
    "\n",
    "root = Node(1)\n",
    "root.left = Node(2)\n",
    "root.right = Node(3)\n",
    "root.left.left = Node(4)\n",
    "root.left.right = Node(5)\n",
    " \n",
    "print(\"Level order traversal of binary tree is -\")\n",
    "printLevelOrder(root)"
   ]
  }
 ],
 "metadata": {
  "kernelspec": {
   "display_name": "Python 3",
   "language": "python",
   "name": "python3"
  },
  "language_info": {
   "codemirror_mode": {
    "name": "ipython",
    "version": 3
   },
   "file_extension": ".py",
   "mimetype": "text/x-python",
   "name": "python",
   "nbconvert_exporter": "python",
   "pygments_lexer": "ipython3",
   "version": "3.11.2"
  },
  "orig_nbformat": 4
 },
 "nbformat": 4,
 "nbformat_minor": 2
}
