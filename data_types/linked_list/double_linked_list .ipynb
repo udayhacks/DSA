{
 "cells": [
  {
   "attachments": {},
   "cell_type": "markdown",
   "metadata": {},
   "source": [
    "Double linked list \n"
   ]
  },
  {
   "attachments": {},
   "cell_type": "markdown",
   "metadata": {},
   "source": [
    "Creation of Double linked list \n"
   ]
  },
  {
   "cell_type": "code",
   "execution_count": 107,
   "metadata": {},
   "outputs": [],
   "source": [
    "\n",
    "        \n",
    "        \n",
    "class Node:\n",
    "    def __init__(self, data ):\n",
    "        self.data = data  \n",
    "        self.prev = None \n",
    "        self.next = None  \n",
    "        \n",
    "        \n",
    "        \n",
    "        \n",
    "        \n",
    "class Double_linked_linked_list :\n",
    "    def __init__(self):\n",
    "        self.head = None \n",
    "        \n",
    "    # I  = Insertion  \n",
    "        \n",
    "    def IHead (self,data):\n",
    "        current = self.head \n",
    "        n= Node(data)\n",
    "        n.next = current\n",
    "        current.prev = n\n",
    "        self.head = n\n",
    "           \n",
    "    def Ibody(self , position, data ) :\n",
    "        current = self.head\n",
    "        try :\n",
    "            for i in range(1, position-1)  :\n",
    "                current = current.next\n",
    "            n= Node(data)\n",
    "            n.prev = current\n",
    "            n.next = current.next \n",
    "            current.next.prev = n \n",
    "            current.next = n \n",
    "        except:\n",
    "            print(\"Out of index\")\n",
    "          \n",
    "    def Itail (self , data ):\n",
    "        current  = self.head\n",
    "        while current.next:\n",
    "            current = current.next     \n",
    "        n= Node(data)\n",
    "        current.next = n\n",
    "        n.prev = current\n",
    "        \n",
    "            \n",
    "            \n",
    "    # D = Deletion \n",
    "    \n",
    "    \n",
    "    \n",
    "    def DHead (self):        \n",
    "        current = self.head\n",
    "        current.next .prev = None\n",
    "        self.head = current.next  \n",
    "        \n",
    "    def Dbody(self ,position):\n",
    "        current = self.head \n",
    "        for i in range(1, position-1):\n",
    "            current = current.next \n",
    "        temp = current.next.next\n",
    "        current.next = temp \n",
    "        \n",
    "    def Dtail (self): \n",
    "        current = self.head \n",
    "        while current.next :\n",
    "            current = current.next \n",
    "        current.prev.next = None  \n",
    "        \n",
    "        \n",
    "        \n",
    "    def Reverse(self):\n",
    "            prev = None\n",
    "            current= self.head\n",
    "            while current:\n",
    "                next_address = current.next \n",
    "                current.next = prev\n",
    "                prev = current\n",
    "                current = next_address             \n",
    "            self.head = prev\n",
    "  \n",
    "               \n",
    "    def printf(self): \n",
    "        current = self.head \n",
    "        while current:\n",
    "            print(current.data)\n",
    "            current = current.next \n",
    "            \n",
    "            \n",
    "        #print(self.head) \n",
    "        \n",
    "        \n",
    "        \n",
    "        \n",
    "\n",
    "        \n",
    "        \n",
    "        \n",
    "        "
   ]
  },
  {
   "attachments": {},
   "cell_type": "markdown",
   "metadata": {},
   "source": [
    "Initialising the Double linked list "
   ]
  },
  {
   "cell_type": "code",
   "execution_count": 108,
   "metadata": {},
   "outputs": [
    {
     "name": "stdout",
     "output_type": "stream",
     "text": [
      "<__main__.Node object at 0x0000019DCB39FBD0>\n",
      "34\n",
      "1\n",
      "2\n",
      "3\n",
      "4\n"
     ]
    }
   ],
   "source": [
    "d = Double_linked_linked_list()\n",
    "\n",
    "\n",
    "a = Node(1)\n",
    "b = Node(2)\n",
    "c = Node(3)\n",
    "e = Node(4)\n",
    "\n",
    "d.head = a \n",
    "#d.prev = None \n",
    "d.head.next = b \n",
    "\n",
    "b.prev = d.head \n",
    "b.next = c \n",
    "\n",
    "c.prev = b\n",
    "c.next = e\n",
    "\n",
    "e.prev = c\n",
    "\n",
    "\n",
    "\n",
    "print(d.head)\n",
    "\n",
    "d.IHead(34)\n",
    "d.printf()\n",
    "\n",
    "\n"
   ]
  },
  {
   "cell_type": "code",
   "execution_count": 109,
   "metadata": {},
   "outputs": [],
   "source": [
    "def check (a,b):\n",
    "    if a == b :\n",
    "        print(\"True\")\n",
    "    else:\n",
    "        print(\"False\")\n"
   ]
  },
  {
   "cell_type": "code",
   "execution_count": 110,
   "metadata": {},
   "outputs": [
    {
     "name": "stdout",
     "output_type": "stream",
     "text": [
      "False\n"
     ]
    }
   ],
   "source": [
    "check(d.head ,b.prev)"
   ]
  },
  {
   "cell_type": "code",
   "execution_count": 111,
   "metadata": {},
   "outputs": [],
   "source": [
    "# every thing is same as  single linked list     "
   ]
  },
  {
   "attachments": {},
   "cell_type": "markdown",
   "metadata": {},
   "source": [
    "Insertion "
   ]
  },
  {
   "cell_type": "code",
   "execution_count": 112,
   "metadata": {},
   "outputs": [
    {
     "name": "stdout",
     "output_type": "stream",
     "text": [
      "Out of index\n",
      "35\n",
      "2990\n",
      "34\n",
      "1\n",
      "2\n",
      "3\n",
      "4\n",
      "55\n"
     ]
    }
   ],
   "source": [
    "d.IHead(35)\n",
    "d.Itail(55)\n",
    "d.Ibody(20,2990)\n",
    "d.Ibody(2,2990)\n",
    "\n",
    "d.printf()\n"
   ]
  },
  {
   "attachments": {},
   "cell_type": "markdown",
   "metadata": {},
   "source": [
    "DELEtION\n",
    "    "
   ]
  },
  {
   "cell_type": "code",
   "execution_count": 113,
   "metadata": {},
   "outputs": [
    {
     "name": "stdout",
     "output_type": "stream",
     "text": [
      "2990\n",
      "1\n",
      "2\n",
      "3\n",
      "4\n",
      "Before reversed\n",
      "4\n",
      "3\n",
      "2\n",
      "1\n",
      "2990\n"
     ]
    }
   ],
   "source": [
    "d.DHead()\n",
    "d.Dtail()\n",
    "d.Dbody(2)\n",
    "d.printf()\n",
    "print('Before reversed')\n",
    "d.Reverse()\n",
    "d.printf()"
   ]
  }
 ],
 "metadata": {
  "kernelspec": {
   "display_name": "Python 3",
   "language": "python",
   "name": "python3"
  },
  "language_info": {
   "codemirror_mode": {
    "name": "ipython",
    "version": 3
   },
   "file_extension": ".py",
   "mimetype": "text/x-python",
   "name": "python",
   "nbconvert_exporter": "python",
   "pygments_lexer": "ipython3",
   "version": "3.11.2"
  },
  "orig_nbformat": 4,
  "vscode": {
   "interpreter": {
    "hash": "5256ad92edca63536244f690173c411d45aaa67e8ca384769ab62d187bb8861f"
   }
  }
 },
 "nbformat": 4,
 "nbformat_minor": 2
}
