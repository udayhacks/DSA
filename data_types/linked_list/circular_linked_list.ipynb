{
 "cells": [
  {
   "attachments": {},
   "cell_type": "markdown",
   "metadata": {},
   "source": [
    "Circular linked list  : same as  single linked list and last,next != None and its is self.head "
   ]
  },
  {
   "cell_type": "code",
   "execution_count": 23,
   "metadata": {},
   "outputs": [
    {
     "data": {
      "text/plain": [
       "'\"\" \\n           \\n    def Print(self):\\n        node = self.head  # \"node\" isis the Node object \\n        while node:\\n            print(node.data)  #print(node.next)                 \\n            node = node.next \\n            \\n            if node == self.head :\\n                  \\n                print(\"*****************************************************\")    \\n                break   \\n                \\n'"
      ]
     },
     "execution_count": 23,
     "metadata": {},
     "output_type": "execute_result"
    }
   ],
   "source": [
    "\n",
    "        \n",
    "        \n",
    "class Node:\n",
    "    def __init__(self,data) :\n",
    "        self .data = data \n",
    "        self.next = None \n",
    "            \n",
    "class Circular_linked_list :\n",
    "    def __init__(self):\n",
    "        self.head = None \n",
    "        \n",
    "    def traversing(self):\n",
    "        current = self.head \n",
    "        while True :\n",
    "            print(current.data)\n",
    "            current = current.next \n",
    "            if current == self.head :\n",
    "                break \n",
    "           \n",
    "        \n"
   ]
  },
  {
   "cell_type": "code",
   "execution_count": 24,
   "metadata": {},
   "outputs": [
    {
     "name": "stdout",
     "output_type": "stream",
     "text": [
      "1\n",
      "2\n",
      "1\n",
      "4\n"
     ]
    }
   ],
   "source": [
    "C = Circular_linked_list()\n",
    "\n",
    "a = Node(1)\n",
    "b = Node(2)\n",
    "c = Node(1)\n",
    "d = Node(4)\n",
    "\n",
    "\n",
    "\n",
    "C.head = a\n",
    "C.head.next = b \n",
    "b.next = c \n",
    "c.next = d \n",
    "d.next = C.head\n",
    "\n",
    "C.traversing()\n"
   ]
  },
  {
   "cell_type": "code",
   "execution_count": null,
   "metadata": {},
   "outputs": [],
   "source": []
  }
 ],
 "metadata": {
  "kernelspec": {
   "display_name": "Python 3",
   "language": "python",
   "name": "python3"
  },
  "language_info": {
   "codemirror_mode": {
    "name": "ipython",
    "version": 3
   },
   "file_extension": ".py",
   "mimetype": "text/x-python",
   "name": "python",
   "nbconvert_exporter": "python",
   "pygments_lexer": "ipython3",
   "version": "3.11.2"
  },
  "orig_nbformat": 4
 },
 "nbformat": 4,
 "nbformat_minor": 2
}
