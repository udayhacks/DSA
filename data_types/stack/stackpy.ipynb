{
 "cells": [
  {
   "cell_type": "code",
   "execution_count": 28,
   "metadata": {},
   "outputs": [],
   "source": [
    "class Stacks :\n",
    "    def __init__(self) :\n",
    "        self.list = []\n",
    "        \n",
    "    def push (self,item):\n",
    "        self.list.append(item)\n",
    "        \n",
    "    def pop (self,item ) :\n",
    "        self.list.pop(item)\n",
    "        \n",
    "    def isempty(self):\n",
    "        if len(self.list) == 0 :\n",
    "            print(\"Yes\") \n",
    "        print(\"Not empty \")      \n",
    "            \n",
    "    def peek (self):\n",
    "        return (self.list[-1])    \n",
    "    def size(self):\n",
    "        return len(self.list)\n",
    "    \n",
    "    def Print(self):\n",
    "        print(*self.list)\n",
    "      "
   ]
  },
  {
   "cell_type": "code",
   "execution_count": 29,
   "metadata": {},
   "outputs": [
    {
     "name": "stdout",
     "output_type": "stream",
     "text": [
      "1 2 3 4 5\n",
      "1 2 4 5\n"
     ]
    },
    {
     "data": {
      "text/plain": [
       "5"
      ]
     },
     "execution_count": 29,
     "metadata": {},
     "output_type": "execute_result"
    }
   ],
   "source": [
    "stack = Stacks()\n",
    "\n",
    "l = [1,2,3,4,5]\n",
    "\n",
    "for i in l :\n",
    "    stack.push(i)\n",
    "    \n",
    "stack.Print()\n",
    "stack.pop(2)\n",
    "stack.Print()\n",
    "stack.peek()  \n",
    "\n",
    "    \n",
    "    "
   ]
  }
 ],
 "metadata": {
  "kernelspec": {
   "display_name": "Python 3",
   "language": "python",
   "name": "python3"
  },
  "language_info": {
   "codemirror_mode": {
    "name": "ipython",
    "version": 3
   },
   "file_extension": ".py",
   "mimetype": "text/x-python",
   "name": "python",
   "nbconvert_exporter": "python",
   "pygments_lexer": "ipython3",
   "version": "3.11.2"
  },
  "orig_nbformat": 4
 },
 "nbformat": 4,
 "nbformat_minor": 2
}
