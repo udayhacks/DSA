{
 "cells": [
  {
   "cell_type": "code",
   "execution_count": 1,
   "metadata": {},
   "outputs": [
    {
     "name": "stdout",
     "output_type": "stream",
     "text": [
      "['ChainMap', 'Counter', 'OrderedDict', 'UserDict', 'UserList', 'UserString', '_Link', '_OrderedDictItemsView', '_OrderedDictKeysView', '_OrderedDictValuesView', '__all__', '__builtins__', '__cached__', '__doc__', '__file__', '__loader__', '__name__', '__package__', '__path__', '__spec__', '_chain', '_collections_abc', '_count_elements', '_eq', '_iskeyword', '_itemgetter', '_proxy', '_recursive_repr', '_repeat', '_starmap', '_sys', '_tuplegetter', 'abc', 'defaultdict', 'deque', 'namedtuple']\n"
     ]
    }
   ],
   "source": [
    "import collections \n",
    "\n",
    "print(dir (collections))"
   ]
  },
  {
   "cell_type": "code",
   "execution_count": 10,
   "metadata": {},
   "outputs": [
    {
     "name": "stdout",
     "output_type": "stream",
     "text": [
      "['_MutableMapping__marker', '__abstractmethods__', '__bool__', '__class__', '__class_getitem__', '__contains__', '__copy__', '__delattr__', '__delitem__', '__dict__', '__dir__', '__doc__', '__eq__', '__format__', '__ge__', '__getattribute__', '__getitem__', '__getstate__', '__gt__', '__hash__', '__init__', '__init_subclass__', '__ior__', '__iter__', '__le__', '__len__', '__lt__', '__missing__', '__module__', '__ne__', '__new__', '__or__', '__reduce__', '__reduce_ex__', '__repr__', '__reversed__', '__ror__', '__setattr__', '__setitem__', '__sizeof__', '__slots__', '__str__', '__subclasshook__', '__weakref__', '_abc_impl', 'clear', 'copy', 'fromkeys', 'get', 'items', 'keys', 'new_child', 'parents', 'pop', 'popitem', 'setdefault', 'update', 'values']\n"
     ]
    }
   ],
   "source": [
    "from collections import  ChainMap \n",
    "\n",
    "\n",
    "#print(help (ChainMap))\n",
    "print(dir(ChainMap))"
   ]
  },
  {
   "cell_type": "code",
   "execution_count": 16,
   "metadata": {},
   "outputs": [
    {
     "name": "stdout",
     "output_type": "stream",
     "text": [
      "ChainMap({'a': 1, 'b': 2}, {'c': 3, 'd': 4}, {'e': 5, 'f': 6})\n"
     ]
    }
   ],
   "source": [
    "d1 = {'a': 1, 'b': 2} \n",
    "d2 = {'c': 3, 'd': 4} \n",
    "d3 = {'e': 5, 'f': 6} \n",
    "chain_map = ChainMap(d1,d2,d3)\n",
    "print(chain_map)"
   ]
  },
  {
   "cell_type": "code",
   "execution_count": null,
   "metadata": {},
   "outputs": [],
   "source": []
  },
  {
   "attachments": {},
   "cell_type": "markdown",
   "metadata": {},
   "source": [
    "Acessing Operation\n",
    "1) keys() for keys \n",
    "2) values () for values \n",
    "3) maps() for maps "
   ]
  },
  {
   "cell_type": "code",
   "execution_count": 18,
   "metadata": {},
   "outputs": [],
   "source": [
    "keys = chain_map.keys()\n",
    "values = chain_map.values()\n",
    "maps = chain_map.maps\n",
    "items = chain_map.items()\n",
    "clear = chain_map.clear()"
   ]
  },
  {
   "cell_type": "code",
   "execution_count": 19,
   "metadata": {},
   "outputs": [
    {
     "name": "stdout",
     "output_type": "stream",
     "text": [
      "KeysView(ChainMap({}, {'c': 3, 'd': 4}, {'e': 5, 'f': 6}))\n",
      "ValuesView(ChainMap({}, {'c': 3, 'd': 4}, {'e': 5, 'f': 6}))\n",
      "[{}, {'c': 3, 'd': 4}, {'e': 5, 'f': 6}]\n",
      "ItemsView(ChainMap({}, {'c': 3, 'd': 4}, {'e': 5, 'f': 6}))\n",
      "None\n",
      "ChainMap({}, {'c': 3, 'd': 4}, {'e': 5, 'f': 6})\n"
     ]
    }
   ],
   "source": [
    "print(keys)\n",
    "print(values)\n",
    "print(maps)\n",
    "print(items)\n",
    "print(clear)\n",
    "print(chain_map)"
   ]
  },
  {
   "cell_type": "code",
   "execution_count": null,
   "metadata": {},
   "outputs": [],
   "source": []
  }
 ],
 "metadata": {
  "kernelspec": {
   "display_name": "Python 3",
   "language": "python",
   "name": "python3"
  },
  "language_info": {
   "codemirror_mode": {
    "name": "ipython",
    "version": 3
   },
   "file_extension": ".py",
   "mimetype": "text/x-python",
   "name": "python",
   "nbconvert_exporter": "python",
   "pygments_lexer": "ipython3",
   "version": "3.11.2"
  },
  "orig_nbformat": 4
 },
 "nbformat": 4,
 "nbformat_minor": 2
}
