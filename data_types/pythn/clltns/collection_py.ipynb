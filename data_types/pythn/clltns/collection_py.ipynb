{
 "cells": [
  {
   "cell_type": "code",
   "execution_count": 4,
   "metadata": {},
   "outputs": [
    {
     "name": "stdout",
     "output_type": "stream",
     "text": [
      "ChainMap({'a': 1, 'b': 2}, {'c': 3, 'd': 4}, {'e': 5, 'f': 6})\n"
     ]
    }
   ],
   "source": [
    "     \n",
    "       \n",
    "from collections import ChainMap  \n",
    "       \n",
    "       \n",
    "d1 = {'a': 1, 'b': 2} \n",
    "d2 = {'c': 3, 'd': 4} \n",
    "d3 = {'e': 5, 'f': 6} \n",
    "    \n",
    "# Defining the chainmap  \n",
    "chain_map = ChainMap(d1, d2, d3)  \n",
    "       \n",
    "print(chain_map)"
   ]
  },
  {
   "cell_type": "code",
   "execution_count": 2,
   "metadata": {},
   "outputs": [
    {
     "name": "stdout",
     "output_type": "stream",
     "text": [
      "['_MutableMapping__marker', '__abstractmethods__', '__bool__', '__class__', '__class_getitem__', '__contains__', '__copy__', '__delattr__', '__delitem__', '__dict__', '__dir__', '__doc__', '__eq__', '__format__', '__ge__', '__getattribute__', '__getitem__', '__getstate__', '__gt__', '__hash__', '__init__', '__init_subclass__', '__ior__', '__iter__', '__le__', '__len__', '__lt__', '__missing__', '__module__', '__ne__', '__new__', '__or__', '__reduce__', '__reduce_ex__', '__repr__', '__reversed__', '__ror__', '__setattr__', '__setitem__', '__sizeof__', '__slots__', '__str__', '__subclasshook__', '__weakref__', '_abc_impl', 'clear', 'copy', 'fromkeys', 'get', 'items', 'keys', 'new_child', 'parents', 'pop', 'popitem', 'setdefault', 'update', 'values']\n"
     ]
    }
   ],
   "source": [
    "from collections import ChainMap\n",
    "data = dir(ChainMap)\n",
    "print(data)"
   ]
  },
  {
   "cell_type": "code",
   "execution_count": 28,
   "metadata": {},
   "outputs": [
    {
     "name": "stdout",
     "output_type": "stream",
     "text": [
      "Help on function new_child in module collections:\n",
      "\n",
      "new_child(self, m=None, **kwargs)\n",
      "    New ChainMap with a new map followed by all previous maps.\n",
      "    If no map is provided, an empty dict is used.\n",
      "    Keyword arguments update the map or new empty dict.\n",
      "\n",
      "None\n"
     ]
    }
   ],
   "source": [
    "\n",
    "print(help(ChainMap.new_child))"
   ]
  },
  {
   "attachments": {},
   "cell_type": "markdown",
   "metadata": {},
   "source": [
    "Using the Methods \n"
   ]
  },
  {
   "cell_type": "code",
   "execution_count": 23,
   "metadata": {},
   "outputs": [
    {
     "name": "stdout",
     "output_type": "stream",
     "text": [
      "ChainMap({}, {'c': 3, 'd': 4}, {'e': 5, 'f': 6})\n",
      "ChainMap({}, {'c': 3, 'd': 4}, {'e': 5, 'f': 6})\n",
      "2033110733968\n",
      "2033105199696\n",
      "KeysView(ChainMap({}, {'c': 3, 'd': 4}, {'e': 5, 'f': 6}))\n",
      "ChainMap({'e': None, 'f': None, 'c': None, 'd': None})\n",
      "3\n",
      "ItemsView(ChainMap({}, {'c': 3, 'd': 4}, {'e': 5, 'f': 6}))\n",
      "ChainMap({1: 23, 2: 33}, {}, {'c': 3, 'd': 4}, {'e': 5, 'f': 6})\n",
      "None\n"
     ]
    }
   ],
   "source": [
    "\n",
    "print(chain_map)\n",
    "\n",
    "copy = chain_map.copy()\n",
    "print(copy) \n",
    "print(id(copy))\n",
    "print(id(chain_map))\n",
    "\n",
    "\n",
    "keys = chain_map.keys()\n",
    "print(keys)\n",
    "\n",
    "fromkeys = chain_map.fromkeys(keys )\n",
    "print(fromkeys)\n",
    "\n",
    "get = chain_map.get(\"c\")\n",
    "print(get)\n",
    "\n",
    "items = chain_map.items()\n",
    "print(items)\n",
    "\n",
    "# addes new dict at begging \n",
    "\n",
    "new_child =  chain_map.new_child({1:23,2:33})\n",
    "print(new_child)\n",
    "\n",
    "\n",
    "clear = chain_map.clear()\n",
    "print(clear)\n",
    "\n"
   ]
  },
  {
   "cell_type": "code",
   "execution_count": null,
   "metadata": {},
   "outputs": [],
   "source": []
  }
 ],
 "metadata": {
  "kernelspec": {
   "display_name": "Python 3",
   "language": "python",
   "name": "python3"
  },
  "language_info": {
   "codemirror_mode": {
    "name": "ipython",
    "version": 3
   },
   "file_extension": ".py",
   "mimetype": "text/x-python",
   "name": "python",
   "nbconvert_exporter": "python",
   "pygments_lexer": "ipython3",
   "version": "3.11.2"
  },
  "orig_nbformat": 4
 },
 "nbformat": 4,
 "nbformat_minor": 2
}
